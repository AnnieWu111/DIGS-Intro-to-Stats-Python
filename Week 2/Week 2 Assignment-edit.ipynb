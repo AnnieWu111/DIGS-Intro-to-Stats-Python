{
 "cells": [
  {
   "cell_type": "code",
   "execution_count": 1,
   "id": "a36efc8e-8eec-4f76-977f-4bb25e81307c",
   "metadata": {},
   "outputs": [],
   "source": [
    "import statistics \n",
    "import pandas as pd\n",
    "import matplotlib.pyplot as plt\n",
    "import numpy as np\n",
    "\n",
    "file = pd.read_csv('homework_week2.csv')"
   ]
  },
  {
   "cell_type": "code",
   "execution_count": 2,
   "id": "c8c7d8e5-8eeb-445c-bb11-a4565344f221",
   "metadata": {},
   "outputs": [],
   "source": [
    "#1 Construct a histogram for age"
   ]
  },
  {
   "cell_type": "code",
   "execution_count": 3,
   "id": "c515c2a7-35f3-447f-b326-da2ced6f927f",
   "metadata": {},
   "outputs": [
    {
     "name": "stdout",
     "output_type": "stream",
     "text": [
      "19.789417693089884\n",
      "40.5\n"
     ]
    }
   ],
   "source": [
    "df = pd.DataFrame(file)\n",
    "\n",
    "age = df.get(\"Age\")\n",
    "median = statistics.median(age)\n",
    "stdv = statistics.stdev(age)\n",
    "print (stdv)\n",
    "print (median)"
   ]
  },
  {
   "cell_type": "code",
   "execution_count": 4,
   "id": "161aea6a-dc87-4740-88c2-fd400e7fd626",
   "metadata": {},
   "outputs": [
    {
     "data": {
      "text/plain": [
       "Text(0, 0.5, 'Numbers of Person')"
      ]
     },
     "execution_count": 4,
     "metadata": {},
     "output_type": "execute_result"
    },
    {
     "data": {
      "image/png": "[encoded data removed]",
      "text/plain": [
       "<Figure size 640x480 with 1 Axes>"
      ]
     },
     "metadata": {},
     "output_type": "display_data"
    }
   ],
   "source": [
    "plt.hist(age, bins = 10)\n",
    "plt.title(\"Numbers of Observation by Age Range\")\n",
    "plt.xlabel(\"Range of Age\")\n",
    "plt.ylabel(\"Numbers of Person\")"
   ]
  },
  {
   "cell_type": "code",
   "execution_count": 5,
   "id": "2d9aa947-893f-4848-af51-3f087fd5085d",
   "metadata": {},
   "outputs": [],
   "source": [
    "#2 Construct a box plot for education"
   ]
  },
  {
   "cell_type": "code",
   "execution_count": 6,
   "id": "0c987be1-72af-4373-9acc-e7aa01b4da81",
   "metadata": {},
   "outputs": [
    {
     "data": {
      "text/plain": [
       "Text(0.5, 0, 'Years of Education')"
      ]
     },
     "execution_count": 6,
     "metadata": {},
     "output_type": "execute_result"
    },
    {
     "data": {
      "image/png": "[encoded data removed]",
      "text/plain": [
       "<Figure size 640x480 with 1 Axes>"
      ]
     },
     "metadata": {},
     "output_type": "display_data"
    }
   ],
   "source": [
    "edu = df.get(\"Education\")\n",
    "plt.boxplot(edu,vert=False)\n",
    "plt.xlabel(\"Years of Education\") #there's no unit for education so I assume it as \"years of education\""
   ]
  },
  {
   "cell_type": "code",
   "execution_count": 7,
   "id": "a9e08b7d-ae2c-4675-8dfc-4cfb9def33ee",
   "metadata": {},
   "outputs": [],
   "source": [
    "#3 Compute the mean, median and mode for education."
   ]
  },
  {
   "cell_type": "code",
   "execution_count": 8,
   "id": "a715af82-ebec-40d2-8244-6c2cb754ed8c",
   "metadata": {},
   "outputs": [
    {
     "name": "stdout",
     "output_type": "stream",
     "text": [
      "12\n",
      "12.0\n",
      "12\n"
     ]
    }
   ],
   "source": [
    "print (statistics.mean(edu))\n",
    "print (statistics.median(edu))\n",
    "print (statistics.mode(edu))"
   ]
  },
  {
   "cell_type": "code",
   "execution_count": 9,
   "id": "7cb2342a-5b3a-4507-96eb-29649d5085d6",
   "metadata": {},
   "outputs": [],
   "source": [
    "#4 Is the distribution of education symmetric or skewed? If skewed, which direction is the skew"
   ]
  },
  {
   "cell_type": "code",
   "execution_count": 10,
   "id": "d0a43774-695f-4320-8e77-d9f336dca1f9",
   "metadata": {},
   "outputs": [
    {
     "name": "stdout",
     "output_type": "stream",
     "text": [
      "0.5021467393517883\n",
      "A positive skewness means that the distribution is skewed to the right; the tail is on the right side\n"
     ]
    }
   ],
   "source": [
    "#from scipy.stats import skew\n",
    "print(edu.skew())\n",
    "print(\"A positive skewness means that the distribution is skewed to the right; the tail is on the right side\")"
   ]
  },
  {
   "cell_type": "code",
   "execution_count": 11,
   "id": "0a6bcabd-3aec-48fd-86b2-21c561168101",
   "metadata": {},
   "outputs": [],
   "source": [
    "#5 Compute the range, IQR, variance and standard deviation for education"
   ]
  },
  {
   "cell_type": "code",
   "execution_count": 12,
   "id": "663508b8-8b24-4389-94f3-20c58ead595f",
   "metadata": {
    "scrolled": true
   },
   "outputs": [
    {
     "name": "stdout",
     "output_type": "stream",
     "text": [
      "count    20.000000\n",
      "mean     12.000000\n",
      "std       1.973509\n",
      "min       9.000000\n",
      "25%      10.750000\n",
      "50%      12.000000\n",
      "75%      13.000000\n",
      "max      16.000000\n",
      "Name: Education, dtype: float64\n",
      "2.25\n",
      "3.8947368421052633\n",
      "1.9735087641318605\n"
     ]
    }
   ],
   "source": [
    "print (edu.describe())\n",
    "IQR=13-10.75\n",
    "print (IQR)\n",
    "print (statistics.variance(edu))\n",
    "print (statistics.stdev(edu))"
   ]
  },
  {
   "cell_type": "code",
   "execution_count": 13,
   "id": "7b97be27-25e8-4332-b337-20bcd623fdd2",
   "metadata": {},
   "outputs": [],
   "source": [
    "#6 (ExtraCredit)Createa crosstab for sex and education, interprete"
   ]
  },
  {
   "cell_type": "code",
   "execution_count": 14,
   "id": "cffc4d44-2bbc-4daf-80e9-fb922e5e4505",
   "metadata": {},
   "outputs": [],
   "source": [
    "#sex = df.get(\"Sex (1=male 2=female)\")"
   ]
  },
  {
   "cell_type": "code",
   "execution_count": 15,
   "id": "35faf74f-bf5d-42b7-8948-7cf8778a0097",
   "metadata": {},
   "outputs": [
    {
     "name": "stdout",
     "output_type": "stream",
     "text": [
      "Education              9  10  11  12  13  14  16  All\n",
      "Sex (1=male 2=female)                                \n",
      "1                      0   0   2   1   0   0   1    4\n",
      "2                      2   3   0   6   2   2   1   16\n",
      "All                    2   3   2   7   2   2   2   20\n"
     ]
    }
   ],
   "source": [
    "xtab = pd.crosstab(file[\"Sex (1=male 2=female)\"], file[\"Education\"], margins=True)\n",
    "print(xtab)"
   ]
  }
 ],
 "metadata": {
  "kernelspec": {
   "display_name": "Python 3 (ipykernel)",
   "language": "python",
   "name": "python3"
  },
  "language_info": {
   "codemirror_mode": {
    "name": "ipython",
    "version": 3
   },
   "file_extension": ".py",
   "mimetype": "text/x-python",
   "name": "python",
   "nbconvert_exporter": "python",
   "pygments_lexer": "ipython3",
   "version": "3.12.6"
  }
 },
 "nbformat": 4,
 "nbformat_minor": 5
}
