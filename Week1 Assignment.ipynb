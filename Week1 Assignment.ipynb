{
 "cells": [
  {
   "cell_type": "code",
   "execution_count": 3,
   "id": "28c40f09-f989-46c9-a845-1a5b5a5aa1bd",
   "metadata": {
    "scrolled": true
   },
   "outputs": [],
   "source": [
    "#Create a new cell and paste into it the assignments to the variables a and b and the contents of the code cell above with all of the print statements. \n",
    "#Remove all of the calls to the print function so you only have the expressions that were to be printed and run the code. What is returned"
   ]
  },
  {
   "cell_type": "code",
   "execution_count": 1,
   "id": "8a4d68f4-88cf-4a38-9058-258eb6f0ddb8",
   "metadata": {},
   "outputs": [],
   "source": [
    "a = 2\n",
    "b = 3.142"
   ]
  },
  {
   "cell_type": "code",
   "execution_count": 4,
   "id": "f5d55bd7-4c13-4b4f-b338-5b042606b26f",
   "metadata": {},
   "outputs": [
    {
     "data": {
      "text/plain": [
       "float"
      ]
     },
     "execution_count": 4,
     "metadata": {},
     "output_type": "execute_result"
    }
   ],
   "source": [
    "type(a)\n",
    "type(b)"
   ]
  },
  {
   "cell_type": "code",
   "execution_count": 5,
   "id": "d51418a2-a74e-4418-b3dc-993a24a0e8fc",
   "metadata": {},
   "outputs": [
    {
     "data": {
      "text/plain": [
       "0.8580000000000001"
      ]
     },
     "execution_count": 5,
     "metadata": {},
     "output_type": "execute_result"
    }
   ],
   "source": [
    "\"a =\", a, \"and b =\" , b\n",
    "a + b # addition\n",
    "a * b # multiplication\n",
    "a - b # subtraction\n",
    "a / b # division\n",
    "b ** a # exponentiation\n",
    "2 * a % b # modulus - returns the remainder"
   ]
  },
  {
   "cell_type": "code",
   "execution_count": 9,
   "id": "9a34edb1-2f07-4576-974f-3118653935f0",
   "metadata": {},
   "outputs": [],
   "source": [
    "#Now remove all but the first line (with the 4 items in it) and run the cell again. How does this output differ from when we used the print function?"
   ]
  },
  {
   "cell_type": "code",
   "execution_count": 6,
   "id": "27a18ae4-b49e-41aa-acb5-f3908b462b85",
   "metadata": {},
   "outputs": [
    {
     "data": {
      "text/plain": [
       "('a =', 2, 'and b =', 3.142)"
      ]
     },
     "execution_count": 6,
     "metadata": {},
     "output_type": "execute_result"
    }
   ],
   "source": [
    "\"a =\", a, \"and b =\" , b"
   ]
  },
  {
   "cell_type": "code",
   "execution_count": null,
   "id": "199bdde1-f543-401d-aff1-f29a11c76956",
   "metadata": {},
   "outputs": [],
   "source": [
    "#Practice assigning values to variables using as many different operators as you can think of."
   ]
  },
  {
   "cell_type": "code",
   "execution_count": 7,
   "id": "7d0d31e2-db7e-46ea-864b-089efa8b9eb2",
   "metadata": {},
   "outputs": [
    {
     "name": "stdout",
     "output_type": "stream",
     "text": [
      "<class 'int'>\n",
      "<class 'float'>\n",
      "<class 'str'>\n"
     ]
    }
   ],
   "source": [
    "a = 28\n",
    "b = 1.11\n",
    "c = \"annie\"\n",
    "print(type(a))\n",
    "print(type(b))\n",
    "print(type(c))"
   ]
  },
  {
   "cell_type": "code",
   "execution_count": 34,
   "id": "335a99c2-f2b9-4040-b355-ce498817fd62",
   "metadata": {},
   "outputs": [
    {
     "name": "stdout",
     "output_type": "stream",
     "text": [
      "annies birthday is 1.11\n",
      "14.555\n",
      "18.1\n",
      "0.24999999999999756\n",
      "5\n",
      "8\n"
     ]
    }
   ],
   "source": [
    "sentence = c + \"s birthday is \" + str(b)\n",
    "print(sentence)\n",
    "print((a+b)/2)\n",
    "print(a/4 + b*10)\n",
    "print(a%b)\n",
    "print(len(c))\n",
    "d = \"annie吳倩懿\"\n",
    "print(len(d)) #apparently characters counting works in different languages"
   ]
  },
  {
   "cell_type": "code",
   "execution_count": null,
   "id": "e07f9d00-38e3-44ce-a383-107285a0043d",
   "metadata": {},
   "outputs": [],
   "source": [
    "#Create some expressions to be evaluated using parentheses to enforce the order of mathematical operations that you require"
   ]
  },
  {
   "cell_type": "code",
   "execution_count": 37,
   "id": "50f43c8b-45af-49a5-9c31-5b21c87b289c",
   "metadata": {},
   "outputs": [
    {
     "name": "stdout",
     "output_type": "stream",
     "text": [
      "20.146666666666665\n",
      "37.07999999999998\n"
     ]
    }
   ],
   "source": [
    "print((a+a+b)/3+b)\n",
    "print((a*b%b)*a+6)"
   ]
  },
  {
   "cell_type": "code",
   "execution_count": 43,
   "id": "2e1a9d16-ffac-49d2-acab-a6627d904485",
   "metadata": {},
   "outputs": [
    {
     "name": "stdout",
     "output_type": "stream",
     "text": [
      "14.555\n"
     ]
    }
   ],
   "source": [
    "import statistics\n",
    "sample= [a, b]\n",
    "print(statistics.mean(sample))\n",
    "#https://www.geeksforgeeks.org/python-statistics-stdev/"
   ]
  },
  {
   "cell_type": "code",
   "execution_count": null,
   "id": "876cadb9-19ef-42bf-b7db-fb6292d85516",
   "metadata": {},
   "outputs": [],
   "source": []
  }
 ],
 "metadata": {
  "kernelspec": {
   "display_name": "Python 3 (ipykernel)",
   "language": "python",
   "name": "python3"
  },
  "language_info": {
   "codemirror_mode": {
    "name": "ipython",
    "version": 3
   },
   "file_extension": ".py",
   "mimetype": "text/x-python",
   "name": "python",
   "nbconvert_exporter": "python",
   "pygments_lexer": "ipython3",
   "version": "3.12.6"
  }
 },
 "nbformat": 4,
 "nbformat_minor": 5
}
